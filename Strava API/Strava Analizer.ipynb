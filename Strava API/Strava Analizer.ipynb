{
 "cells": [
  {
   "cell_type": "code",
   "execution_count": null,
   "metadata": {},
   "outputs": [],
   "source": []
  },
  {
   "cell_type": "markdown",
   "metadata": {},
   "source": [
    "### Importing libraries:"
   ]
  },
  {
   "cell_type": "code",
   "execution_count": null,
   "metadata": {},
   "outputs": [],
   "source": [
    "from stravalib.client import Client\n",
    "import matplotlib.pyplot as plt\n",
    "from pprint import pprint\n",
    "from flask import Flask\n",
    "import seaborn as sns\n",
    "import pandas as pd\n",
    "import requests\n",
    "import numpy\n",
    "import json"
   ]
  },
  {
   "cell_type": "markdown",
   "metadata": {},
   "source": [
    "### Loading Functions:"
   ]
  },
  {
   "cell_type": "code",
   "execution_count": null,
   "metadata": {},
   "outputs": [],
   "source": [
    "def compile_activities(club_activities, export=False):\n",
    "    \"\"\"Compile all club activities data to a dictionary (created previously or loaded from a file)\"\"\"\n",
    "\n",
    "    # Acessing external JSON file with users data:\n",
    "    with open('../users_data.json', 'r') as file:\n",
    "        user_dict = json.load(file)\n",
    "\n",
    "    for activity in club_activities:\n",
    "        # Loads activity dictionary:\n",
    "        act_dict = activity.to_dict()\n",
    "        # Loads interest variables:\n",
    "        user_name = \"{} {}\".format(act_dict['athlete']['firstname'], act_dict['athlete']['lastname'])\n",
    "        val_distance = act_dict['distance']\n",
    "        val_elapsed_time = time_converter(act_dict['elapsed_time'])\n",
    "        val_moving_time = time_converter(act_dict['moving_time'])\n",
    "        val_elevation_gain = act_dict['total_elevation_gain']\n",
    "        # Loads user data whose match with the activity:\n",
    "        user_data = user_dict[user_name]\n",
    "        # Updating variables:\n",
    "        user_data['activities_counter'] += 1\n",
    "        user_data['distance'] += int(val_distance)\n",
    "        user_data['total_elapsed_time'] += val_elapsed_time\n",
    "        user_data['total_moving_time'] += val_moving_time\n",
    "        # Compares if the value is bigger than the previous (and saves if it is):\n",
    "        if user_data['highest_elevation_gain'] < val_elevation_gain:\n",
    "            user_data['highest_elevation_gain'] = val_elevation_gain\n",
    "        #Displays progress on console when export is enable:\n",
    "        if export == True:\n",
    "            print(\"Activity saved! User: {}\".format(user_name))\n",
    "\n",
    "    # The dict is displayed on the console:\n",
    "    if export == False:\n",
    "        return user_dict\n",
    "    # The dict is exported as a JSON file:\n",
    "    elif export == True:\n",
    "        with open('../users_data_compiled.json', 'w') as users_file:\n",
    "            json.dump(user_dict, users_file)\n",
    "            \n",
    "            \n",
    "def load_file_data(filename, display=False):\n",
    "    \"\"\"Display data in the file\"\"\"\n",
    "\n",
    "    # Loads file and read it's data:\n",
    "    with open('../{}'.format(filename), 'r') as file:\n",
    "        data = json.load(file)\n",
    "    # Shows data in the console:\n",
    "    if display == True:\n",
    "        pprint(data)\n",
    "    elif display == False:\n",
    "        return data\n",
    "    \n",
    "    \n",
    "def new_users_file(users_list, export=False):\n",
    "    \"\"\"Creates a dictionary to store data about each user considering summary-level data acess\"\"\"\n",
    "\n",
    "    # Creates empty dictionary:\n",
    "    users_dict = {}\n",
    "    for user in users_list:\n",
    "        # Load user fullname to be used as dictionary key:\n",
    "        user_fullname = user.to_dict()['firstname'] + \" \" + user.to_dict()['lastname']\n",
    "        # Check if the file already contains the user data:\n",
    "        try:\n",
    "            users_dict[user_fullname]\n",
    "        # If there's no user data it creates a new one:\n",
    "        except :\n",
    "            users_dict[user_fullname] = {'activities_counter': 0,\n",
    "                                         'distance': 0,\n",
    "                                         'total_elapsed_time': 0,\n",
    "                                         'total_moving_time': 0,\n",
    "                                         'highest_elevation_gain': 0}\n",
    "\n",
    "    # The dict is displayed on the console:\n",
    "    if export == False:\n",
    "        return users_dict\n",
    "    # The dict is exported as a JSON file:\n",
    "    elif export == True:\n",
    "        with open('../users_data.json', 'w') as users_file:\n",
    "            json.dump(users_dict, users_file)\n",
    "\n",
    "\n",
    "def time_converter(time_value):\n",
    "    \"\"\"Converts a string variable in the format HH:MM:SS to a int variable in seconds, and vice-versa\"\"\"\n",
    "\n",
    "    # Convertion string to integer:\n",
    "    if type(time_value) == str:\n",
    "        values = time_value.split(\":\")\n",
    "        hours = int(values[0])\n",
    "        minutes = int(values[1])\n",
    "        seconds = int(values[2])\n",
    "        total_time = seconds + minutes*60 + hours*3600\n",
    "\n",
    "        return total_time\n",
    "\n",
    "    # Converts integer to string:\n",
    "    elif type(time_value) == int:\n",
    "        hours = 0\n",
    "        minutes = 0 \n",
    "        seconds = 0\n",
    "        while time_value != 0:\n",
    "            if time_value >= 3600:\n",
    "                hours += 1\n",
    "                time_value -= 3600\n",
    "            elif time_value >= 60:\n",
    "                minutes += 1\n",
    "                time_value -= 60\n",
    "            else:\n",
    "                seconds += 1\n",
    "                time_value -= 1\n",
    "\n",
    "        return \"{}:{}:{}\".format(hours, minutes, seconds)\n",
    "\n",
    "\n",
    "    else:\n",
    "        return \"Invalid data type\\nVariable type must be 'str' or 'int'\""
   ]
  },
  {
   "cell_type": "markdown",
   "metadata": {},
   "source": [
    "### Load Strava Client and Interest Variables:"
   ]
  },
  {
   "cell_type": "code",
   "execution_count": null,
   "metadata": {},
   "outputs": [],
   "source": [
    "# Acessing external JSON file with developer data acess:\n",
    "with open('../dev_log.json', 'r') as file:\n",
    "    dev_log = json.load(file)\n",
    "\n",
    "# Defining variables:\n",
    "client_ID = dev_log['client_ID']\n",
    "client_secret = dev_log['client_secret']\n",
    "acess_token = dev_log['acess_token']\n",
    "club_ID = dev_log['club_ID']\n",
    "\n",
    "\n",
    "# Creating developer-level acess to Strava's API:\n",
    "strava_client = Client(acess_token)\n",
    "\n",
    "# Acessing developer Strava data (Used to prepare program to 'resource_state=3' (Detail-level data)):\n",
    "dev_user = strava_client.get_athlete().to_dict()\n",
    "dev_act = list(strava_client.get_activities())\n",
    "\n",
    "# Acessing Club Data:\n",
    "club = strava_client.get_club(club_ID).to_dict()\n",
    "\n",
    "# Acessing Club Members Data:\n",
    "club_users = list(strava_client.get_club_members(club_ID))\n",
    "\n",
    "# Acessing Club Activities Data:\n",
    "club_act = list(strava_client.get_club_activities(club_ID))\n"
   ]
  },
  {
   "cell_type": "markdown",
   "metadata": {},
   "source": [
    "## Debug Console:"
   ]
  },
  {
   "cell_type": "code",
   "execution_count": null,
   "metadata": {},
   "outputs": [],
   "source": [
    "#print(club_users[0])\n",
    "#pprint(club_users[0].to_dict())\n",
    "#print(len(club_act))\n",
    "#pprint(club_act[0].to_dict())\n",
    "\n",
    "#new_users_file(club_users, export=True)\n",
    "pprint(compile_activities(club_act, export=True))\n",
    "#pprint(dev_user)\n",
    "#pprint(dev_act[0].to_dict())\n"
   ]
  },
  {
   "cell_type": "code",
   "execution_count": null,
   "metadata": {
    "scrolled": true
   },
   "outputs": [],
   "source": [
    "pprint(club_act[-1].to_dict())"
   ]
  },
  {
   "cell_type": "code",
   "execution_count": null,
   "metadata": {},
   "outputs": [],
   "source": [
    "print(len(club_act))"
   ]
  },
  {
   "cell_type": "code",
   "execution_count": null,
   "metadata": {},
   "outputs": [],
   "source": []
  },
  {
   "cell_type": "code",
   "execution_count": null,
   "metadata": {},
   "outputs": [],
   "source": []
  },
  {
   "cell_type": "code",
   "execution_count": null,
   "metadata": {},
   "outputs": [],
   "source": []
  },
  {
   "cell_type": "code",
   "execution_count": null,
   "metadata": {},
   "outputs": [],
   "source": []
  },
  {
   "cell_type": "markdown",
   "metadata": {},
   "source": [
    "### Data Filtering and Analysis:"
   ]
  },
  {
   "cell_type": "code",
   "execution_count": null,
   "metadata": {},
   "outputs": [],
   "source": [
    "df = pd.DataFrame(load_file_data('users_data_compiled.json')).transpose()\n",
    "df"
   ]
  },
  {
   "cell_type": "code",
   "execution_count": null,
   "metadata": {},
   "outputs": [],
   "source": [
    "df_clean = df[(df.activities_counter != 0) & \n",
    "              (df.distance != 0) & \n",
    "              (df.highest_elevation_gain != 0) & \n",
    "              (df.total_elapsed_time != 0) & \n",
    "              (df.total_moving_time != 0)]\n",
    "df_clean"
   ]
  },
  {
   "cell_type": "markdown",
   "metadata": {},
   "source": [
    "### Graphic Analysis:"
   ]
  },
  {
   "cell_type": "code",
   "execution_count": null,
   "metadata": {},
   "outputs": [],
   "source": [
    "# Setting Seaborn configs:\n",
    "sns.set()"
   ]
  },
  {
   "cell_type": "code",
   "execution_count": null,
   "metadata": {},
   "outputs": [],
   "source": [
    "\n",
    "plt.bar(list(range(df_clean.shape[0])), df_clean['activities_counter'])\n",
    "plt.xticks(list(range(df_clean.shape[0])), df_clean.index, rotation='vertical')\n",
    "plt.xlabel('Users')\n",
    "plt.ylabel('Amount')\n",
    "plt.show()\n",
    "\n",
    "plt.bar(list(range(df_clean.shape[0])), df_clean['distance'])\n",
    "plt.xticks(list(range(df_clean.shape[0])), df_clean.index, rotation='vertical')\n",
    "plt.xlabel('Users')\n",
    "plt.ylabel('Amount')\n",
    "plt.show()"
   ]
  },
  {
   "cell_type": "code",
   "execution_count": null,
   "metadata": {},
   "outputs": [],
   "source": []
  },
  {
   "cell_type": "code",
   "execution_count": null,
   "metadata": {},
   "outputs": [],
   "source": []
  },
  {
   "cell_type": "markdown",
   "metadata": {},
   "source": [
    "### Web Server:"
   ]
  },
  {
   "cell_type": "code",
   "execution_count": null,
   "metadata": {},
   "outputs": [],
   "source": [
    "redirect_uri = \"http://127.0.0.1:5000/authorize\"\n",
    "auth_url = strava_client.authorization_url(client_ID, redirect_uri)\n",
    "\n",
    "# Flask web server to create acess to user authorization:\n",
    "def server_on(debug=False):\n",
    "    app = Flask(__name__)\n",
    "\n",
    "    @app.route(\"/\")\n",
    "    def root():\n",
    "        return \"Hello World!\"\n",
    "\n",
    "    @app.route(\"/authorize\")\n",
    "    def authorize():\n",
    "        from flask import redirect\n",
    "        return redirect(auth_url)\n",
    "    \n",
    "    @app.route(\"/authorization_successful\")\n",
    "    def authorization_successful():\n",
    "        code = requests.get(auth_url).code\n",
    "        user_token = strava_client.exchange_code_for_token(client_ID, client_secret, code)\n",
    "        \n",
    "    @app.errorhandler(404)\n",
    "    def page_not_found(error):\n",
    "        from flask import render_template\n",
    "        return render_template('page_not_found.html'), 404\n",
    "\n",
    "    # Execute web server (localhost):\n",
    "    if debug == False:\n",
    "        app.run(\"http://127.0.0.1:5000\"\")\n",
    "    elif debug == True:\n",
    "        app.run(debug=True)"
   ]
  },
  {
   "cell_type": "code",
   "execution_count": null,
   "metadata": {},
   "outputs": [],
   "source": [
    "server_on()"
   ]
  },
  {
   "cell_type": "code",
   "execution_count": null,
   "metadata": {},
   "outputs": [],
   "source": [
    "print(auth_url)"
   ]
  },
  {
   "cell_type": "code",
   "execution_count": null,
   "metadata": {},
   "outputs": [],
   "source": []
  }
 ],
 "metadata": {
  "kernelspec": {
   "display_name": "Python 3",
   "language": "python",
   "name": "python3"
  },
  "language_info": {
   "codemirror_mode": {
    "name": "ipython",
    "version": 3
   },
   "file_extension": ".py",
   "mimetype": "text/x-python",
   "name": "python",
   "nbconvert_exporter": "python",
   "pygments_lexer": "ipython3",
   "version": "3.7.0"
  }
 },
 "nbformat": 4,
 "nbformat_minor": 2
}
